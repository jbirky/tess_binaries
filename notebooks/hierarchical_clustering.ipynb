{
 "cells": [
  {
   "cell_type": "code",
   "execution_count": null,
   "metadata": {},
   "outputs": [],
   "source": [
    "import numpy as np\n",
    "import pandas as pd\n",
    "import os\n",
    "import sys\n",
    "from astropy import units as u\n",
    "\n",
    "import matplotlib.pyplot as plt\n",
    "from matplotlib.ticker import AutoMinorLocator\n",
    "from matplotlib import rc\n",
    "plt.style.use('classic')\n",
    "rc('font', **{'family': 'serif', 'serif': ['Computer Modern']})\n",
    "rc('text', usetex=True)\n",
    "rc('figure', facecolor='w')\n",
    "rc('xtick', labelsize=20)\n",
    "rc('ytick', labelsize=20)\n",
    "\n",
    "from dtaidistance import dtw, clustering\n",
    "from dtaidistance import dtw_visualisation as dtwvis\n",
    "\n",
    "from sklearn.preprocessing import MinMaxScaler\n",
    "from scipy.cluster.hierarchy import dendrogram, linkage\n",
    "\n",
    "sys.path.append('/astro/users/jbirky/projects/tess_binaries')\n",
    "os.environ['TESS_DATA'] = '/data/epyc/projects2/tess'\n",
    "\n",
    "import tess_binaries as tb"
   ]
  },
  {
   "cell_type": "code",
   "execution_count": null,
   "metadata": {},
   "outputs": [],
   "source": [
    "tess_xm = pd.read_csv(tb.cat_dir + '/asassn_tess_xm.csv.gz')\n",
    "psamp = tess_xm[~np.isnan(tess_xm['period'])]\n",
    "ref = psamp[psamp['period'] < 28]"
   ]
  },
  {
   "cell_type": "code",
   "execution_count": null,
   "metadata": {},
   "outputs": [],
   "source": [
    "tsteps = 100\n",
    "tarr = np.arange(0,tsteps,1)\n",
    "pharr = np.linspace(0,1,tsteps)\n",
    "\n",
    "farr = []\n",
    "ids = []\n",
    "periods = []\n",
    "types = []\n",
    "\n",
    "demo = [5,16,23, 20,25,28, 4,6,9, 14,21,29, 62,117,123]\n",
    "# demo = np.arange(30,70)\n",
    "# demo = [5,16,20,25,4,62]\n",
    "\n",
    "for i in demo:\n",
    "    tic_id = list(ref['tic_id'])[i]\n",
    "    sec = list(ref['sector'])[i]\n",
    "    typ = list(ref['Type'])[i]\n",
    "    per = list(ref['period'])[i]\n",
    "#     print(i, typ)\n",
    "    \n",
    "    data_full = tb.readSourceFiles(tic_id, sector=sec)[0]  \n",
    "    data      = data_full.fold(period=per*u.day) \n",
    "    bin_flux  = tb.binData(data, tsteps)\n",
    "    \n",
    "    flux = np.roll(np.array(bin_flux), tsteps-np.argmin(bin_flux))\n",
    "    \n",
    "    data = np.vstack([tarr, flux]).T\n",
    "    scaler = MinMaxScaler()\n",
    "    scaler.fit(data)\n",
    "    flux = scaler.transform(data).T[1]\n",
    "\n",
    "    farr.append(flux)\n",
    "    ids.append(tic_id)\n",
    "    periods.append(per)\n",
    "    types.append(typ)"
   ]
  },
  {
   "cell_type": "code",
   "execution_count": null,
   "metadata": {},
   "outputs": [],
   "source": []
  },
  {
   "cell_type": "code",
   "execution_count": null,
   "metadata": {},
   "outputs": [],
   "source": [
    "model = clustering.HierarchicalTree(dists_fun=dtw.distance_matrix_fast, dists_options={})\n",
    "cluster_idx = model.fit(farr)"
   ]
  },
  {
   "cell_type": "code",
   "execution_count": null,
   "metadata": {},
   "outputs": [],
   "source": [
    "fig, ax = plt.subplots(nrows=1, ncols=2, figsize=(10, 10))\n",
    "model.plot(\"myplot.png\", axes=ax, show_ts_label=types,\n",
    "           show_tr_label=True, ts_label_margin=-10,\n",
    "           ts_left_margin=10, ts_sample_length=1)"
   ]
  },
  {
   "cell_type": "code",
   "execution_count": null,
   "metadata": {},
   "outputs": [],
   "source": [
    "model3 = clustering.LinkageTree(dtw.distance_matrix_fast, {})\n",
    "cluster_idx = model3.fit(farr)"
   ]
  },
  {
   "cell_type": "code",
   "execution_count": null,
   "metadata": {},
   "outputs": [],
   "source": [
    "fig, ax = plt.subplots(nrows=1, ncols=2, figsize=(10, 20))\n",
    "model.plot(\"myplot2.png\", axes=ax, show_ts_label=types,\n",
    "           show_tr_label=True, ts_label_margin=0,\n",
    "           ts_left_margin=0, ts_sample_length=1)"
   ]
  },
  {
   "cell_type": "code",
   "execution_count": null,
   "metadata": {},
   "outputs": [],
   "source": [
    "d = dtw.distance_fast(farr[0], farr[1])"
   ]
  },
  {
   "cell_type": "code",
   "execution_count": null,
   "metadata": {},
   "outputs": [],
   "source": [
    "d"
   ]
  },
  {
   "cell_type": "code",
   "execution_count": null,
   "metadata": {},
   "outputs": [],
   "source": []
  }
 ],
 "metadata": {
  "kernelspec": {
   "display_name": "Python 3",
   "language": "python",
   "name": "python3"
  },
  "language_info": {
   "codemirror_mode": {
    "name": "ipython",
    "version": 3
   },
   "file_extension": ".py",
   "mimetype": "text/x-python",
   "name": "python",
   "nbconvert_exporter": "python",
   "pygments_lexer": "ipython3",
   "version": "3.6.9"
  }
 },
 "nbformat": 4,
 "nbformat_minor": 2
}
