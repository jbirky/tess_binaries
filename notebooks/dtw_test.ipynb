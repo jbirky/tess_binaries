{
 "cells": [
  {
   "cell_type": "code",
   "execution_count": null,
   "metadata": {},
   "outputs": [],
   "source": [
    "import numpy as np\n",
    "import pandas as pd\n",
    "import math\n",
    "import os\n",
    "import sys\n",
    "import glob\n",
    "import time\n",
    "import pickle\n",
    "import time\n",
    "import itertools\n",
    "import altair as alt\n",
    "alt.data_transformers.disable_max_rows()\n",
    "\n",
    "from astropy import units as u\n",
    "from astropy.timeseries import LombScargle\n",
    "\n",
    "import fastdtw\n",
    "from scipy.spatial.distance import euclidean\n",
    "\n",
    "import matplotlib.pyplot as plt\n",
    "from matplotlib.ticker import AutoMinorLocator\n",
    "from matplotlib import rc\n",
    "plt.style.use('classic')\n",
    "rc('font', **{'family': 'serif', 'serif': ['Computer Modern']})\n",
    "rc('text', usetex=True)\n",
    "rc('figure', facecolor='w')\n",
    "rc('xtick', labelsize=20)\n",
    "rc('ytick', labelsize=20)\n",
    "\n",
    "import multiprocessing as mp\n",
    "from multiprocessing import Pool\n",
    "print(\"Number of processors: \", mp.cpu_count())\n",
    "\n",
    "sys.path.append('/astro/users/jbirky/projects/tess_binaries')\n",
    "os.environ['TESS_DATA'] = '/data/epyc/projects2/tess'\n",
    "\n",
    "import tess_binaries as tb"
   ]
  },
  {
   "cell_type": "markdown",
   "metadata": {},
   "source": [
    "### Literature\n",
    "\n",
    "With Semi-supervised learning:\n",
    "- [DTW-D: Time Series Semi-Supervised Learning from a Single Example](http://chbrown.github.io/kdd-2013-usb/kdd/p383.pdf) \n",
    "- [Scaling up Dynamic Time Warping to Massive Datasets](http://www.cs.ucr.edu/~eamonn/pkdd99keogh_pazzani.pdf)\n",
    "\n",
    "Implementations:\n",
    "- [FastDTW: Toward Accurate Dynamic Time Warping in Linear Time and Space](https://pdfs.semanticscholar.org/05a2/0cde15e172fc82f32774dd0cf4fe5827cad2.pdf)\n",
    "\n",
    "Astronomical applications:\n",
    "- [Unsupervised Classification of Variable Stars](https://arxiv.org/pdf/1801.09723.pdf)\n",
    "- [Central Engine Memory of Gamma-Ray Bursts and Soft Gamma-Ray Repeaters](https://arxiv.org/abs/1603.01381)\n",
    "- [Reconstructing Gravitational Wave Core-Collapse Supernova Signals with Dynamic Time Warping](https://arxiv.org/abs/1901.02535)\n",
    "\n",
    "### First Test:\n",
    "\n",
    "1. pick out 5 source types: EA, EB, EW, ROT, RRAB (x2 of each)\n",
    "2. phase fold light curve using ASASSN period (manually picked out good periods)\n",
    "3. bin into uniform time grid\n",
    "4. compute distances for all (10 choose 2)=45 combinations using metrics:\n",
    " - euclidean distance\n",
    " - dynamic time warping\n",
    " - DTW-D = DTW / ED\n",
    "\n",
    "Future things:\n",
    "- in principle, implementation of DTW-D should perform better with less complex light curves\n",
    "\n",
    "![](nb_figures/fig1.png)\n",
    "![](nb_figures/fig2.png)\n",
    "\n",
    "- amplitude scaling (affine transformation versions of DTW)?"
   ]
  },
  {
   "cell_type": "markdown",
   "metadata": {},
   "source": [
    "### Read in ASASSN reference list"
   ]
  },
  {
   "cell_type": "code",
   "execution_count": null,
   "metadata": {},
   "outputs": [],
   "source": [
    "tess_xm = pd.read_csv(tb.cat_dir + '/asassn_tess_xm.csv.gz')\n",
    "psamp = tess_xm[~np.isnan(tess_xm['period'])]\n",
    "ref = psamp[psamp['period'] < 28]\n",
    "\n",
    "pos_ref = ref[ref['Type'].isin(['EA', 'EB', 'EW'])]\n",
    "neg_ref = ref[~ref['Type'].isin(['EA', 'EB', 'EW'])]\n",
    "print(len(pos_ref), len(neg_ref))"
   ]
  },
  {
   "cell_type": "code",
   "execution_count": null,
   "metadata": {},
   "outputs": [],
   "source": [
    "pos_ref['Type'].value_counts().plot(kind='bar', figsize=[18,6])"
   ]
  },
  {
   "cell_type": "code",
   "execution_count": null,
   "metadata": {},
   "outputs": [],
   "source": [
    "neg_ref['Type'].value_counts().plot(kind='bar', figsize=[18,6])"
   ]
  },
  {
   "cell_type": "code",
   "execution_count": null,
   "metadata": {},
   "outputs": [],
   "source": [
    "# Hold out reference data\n",
    "pos_train = pos_ref[0:300]\n",
    "neg_train = neg_ref[0:300]\n",
    "\n",
    "pos_test = pos_ref[300:]\n",
    "neg_test = neg_ref[300:]"
   ]
  },
  {
   "cell_type": "code",
   "execution_count": null,
   "metadata": {},
   "outputs": [],
   "source": [
    "np.where(np.array(ref['Type']) == 'EA')"
   ]
  },
  {
   "cell_type": "markdown",
   "metadata": {},
   "source": [
    "### Phase Fold and bin data"
   ]
  },
  {
   "cell_type": "code",
   "execution_count": null,
   "metadata": {},
   "outputs": [],
   "source": [
    "tsteps = 100\n",
    "tarr = np.arange(0,tsteps,1)\n",
    "farr = []\n",
    "ids = []\n",
    "periods = []\n",
    "types = []\n",
    "\n",
    "# demo = [5,16, 20,25, 4,6, 14,21, 62,117]\n",
    "demo = [17]\n",
    "\n",
    "\n",
    "for i in demo:\n",
    "    tic_id = list(ref['tic_id'])[i]\n",
    "    sec = list(ref['sector'])[i]\n",
    "    typ = list(ref['Type'])[i]\n",
    "    per = list(ref['period'])[i]\n",
    "    print(i, typ)\n",
    "    \n",
    "    data_full = tb.readSourceFiles(tic_id, sector=sec)[0]\n",
    "    \n",
    "#     ts = data_full[~np.isnan(data_full['pdcsap_flux'])]\n",
    "#     ls =  LombScargle(ts.time.jd, ts['pdcsap_flux'], dy=ts['pdcsap_flux_err'], \\\n",
    "#                       normalization='standard')\n",
    "#     ls_freq, ls_power = ls.autopower(minimum_frequency=.001, \\\n",
    "#                           maximum_frequency=100, samples_per_peak=10)\n",
    "#     ls_pwr_spec  = np.vstack([np.array(1/ls_freq), np.array(ls_power)])\n",
    "#     ls_max_pwr = np.argmax(ls_pwr_spec, axis=1)[1]\n",
    "#     per = ls_pwr_spec[0][ls_max_pwr]\n",
    "    \n",
    "    data = data_full.fold(period=per*u.day) \n",
    "#     plotLightCurve(data, label=f\"{typ}: TIC_{tic_id}\\nP={per}\", save_dir=f'{tb.plot_dir}/dtw_ex_classes', tic_id=tic_id)\n",
    "\n",
    "    tbins = np.linspace(min(data.time.jd), max(data.time.jd), tsteps+1)\n",
    "    bin_width = (tbins[1] - tbins[0])/2\n",
    "    bin_flux = []\n",
    "    for i in range(tsteps):\n",
    "        bin_ind = np.where((data.time.jd > tbins[i]) & (data.time.jd < tbins[i+1]))[0]\n",
    "        bin_flux.append(np.nanmedian(data['pdcsap_flux'][bin_ind])/u.electron*u.second)\n",
    "    bin_flux = np.array(bin_flux)/np.median(np.array(bin_flux))\n",
    "\n",
    "    plt.figure(figsize=[16,8])\n",
    "    plt.ticklabel_format(useOffset=False)\n",
    "    plt.scatter(data.time.jd, data['pdcsap_flux']/np.nanmedian(data['pdcsap_flux']), \\\n",
    "             color='k', s=2, label=f\"{typ}: TIC\\_{tic_id}\\nP={per}\")\n",
    "    plt.plot(tbins[:tsteps]+bin_width, bin_flux, color='r', label=f'Bins: {tsteps}')\n",
    "\n",
    "    plt.ylabel('PDCSAP Flux', fontsize=18)\n",
    "    plt.xlabel('Julian Date', fontsize=18)\n",
    "    plt.xlim(min(data.time.jd), max(data.time.jd))\n",
    "    plt.legend(loc='lower right', fontsize=16)\n",
    "    plt.minorticks_on()\n",
    "    plt.savefig(f'{tb.plot_dir}/dtw_ex_classes/TIC_{tic_id}.png')\n",
    "    plt.show() \n",
    "    \n",
    "    farr.append(bin_flux)\n",
    "    ids.append(tic_id)\n",
    "    periods.append(per)\n",
    "    types.append(typ)"
   ]
  },
  {
   "cell_type": "code",
   "execution_count": null,
   "metadata": {},
   "outputs": [],
   "source": [
    "# combos = list(itertools.combinations(np.arange(0,10), 2))\n",
    "combos = [(0,1), (0,3), (0,5), (0,7), (0,9)]"
   ]
  },
  {
   "cell_type": "markdown",
   "metadata": {},
   "source": [
    "### Euclidean Distance"
   ]
  },
  {
   "cell_type": "code",
   "execution_count": null,
   "metadata": {},
   "outputs": [],
   "source": [
    "edist = []\n",
    "for pair in combos:\n",
    "    flux1 = np.array(farr[pair[0]])\n",
    "    flux2 = np.array(farr[pair[1]])\n",
    "    \n",
    "    #Shift minimum flux to t=0\n",
    "    flux1 = np.roll(np.array(flux1), tsteps-np.argmin(flux1))\n",
    "    flux2 = np.roll(np.array(flux2), tsteps-np.argmin(flux2)-1)\n",
    "    \n",
    "    d = np.sum(np.abs(flux2 - flux1))\n",
    "    edist.append(d)\n",
    "    \n",
    "    plt.figure(figsize=[16,8])\n",
    "    plt.plot(tarr, flux1, label=f'Type: {types[pair[0]]}')\n",
    "    plt.plot(tarr, flux2, label=f'Type: {types[pair[1]]}')\n",
    "    for t in tarr:\n",
    "        plt.plot((t, t), (flux1[t], flux2[t]), color='k')\n",
    "    plt.title(f'Euclidean Distance: {str(np.round(d,3))}', fontsize=18)\n",
    "    plt.legend(loc='lower right', fontsize=16)\n",
    "    plt.ticklabel_format(useOffset=False)\n",
    "    plt.show()"
   ]
  },
  {
   "cell_type": "code",
   "execution_count": null,
   "metadata": {},
   "outputs": [],
   "source": []
  },
  {
   "cell_type": "markdown",
   "metadata": {},
   "source": [
    "### Dynamic Time Warping "
   ]
  },
  {
   "cell_type": "code",
   "execution_count": null,
   "metadata": {},
   "outputs": [],
   "source": [
    "# https://github.com/talcs/simpledtw\n",
    "\n",
    "def dtw(series_1, series_2, norm_func=np.linalg.norm):\n",
    "    matrix = np.zeros((len(series_1) + 1, len(series_2) + 1))\n",
    "    matrix[0,:] = np.inf\n",
    "    matrix[:,0] = np.inf\n",
    "    matrix[0,0] = 0\n",
    "    for i, vec1 in enumerate(series_1):\n",
    "        for j, vec2 in enumerate(series_2):\n",
    "            cost = norm_func(vec1 - vec2)\n",
    "            matrix[i + 1, j + 1] = cost + min(matrix[i, j + 1], matrix[i + 1, j], matrix[i, j])\n",
    "    matrix = matrix[1:,1:]\n",
    "    i = matrix.shape[0] - 1\n",
    "    j = matrix.shape[1] - 1\n",
    "    matches = []\n",
    "    mappings_series_1 = [list() for v in range(matrix.shape[0])]\n",
    "    mappings_series_2 = [list() for v in range(matrix.shape[1])]\n",
    "    while i > 0 or j > 0:\n",
    "        matches.append((i, j))\n",
    "        mappings_series_1[i].append(j)\n",
    "        mappings_series_2[j].append(i)\n",
    "        option_diag = matrix[i - 1, j - 1] if i > 0 and j > 0 else np.inf\n",
    "        option_up = matrix[i - 1, j] if i > 0 else np.inf\n",
    "        option_left = matrix[i, j - 1] if j > 0 else np.inf\n",
    "        move = np.argmin([option_diag, option_up, option_left])\n",
    "        if move == 0:\n",
    "            i -= 1\n",
    "            j -= 1\n",
    "        elif move == 1:\n",
    "            i -= 1\n",
    "        else:\n",
    "            j -= 1\n",
    "    matches.append((0, 0))\n",
    "    mappings_series_1[0].append(0)\n",
    "    mappings_series_2[0].append(0)\n",
    "    matches.reverse()\n",
    "    for mp in mappings_series_1:\n",
    "        mp.reverse()\n",
    "    for mp in mappings_series_2:\n",
    "        mp.reverse()\n",
    "\n",
    "    return matches, matrix[-1, -1], mappings_series_1, mappings_series_2, matrix"
   ]
  },
  {
   "cell_type": "code",
   "execution_count": null,
   "metadata": {},
   "outputs": [],
   "source": [
    "dtw_dist = []\n",
    "for pair in combos:\n",
    "    flux1 = np.array(farr[pair[0]])\n",
    "    flux2 = np.array(farr[pair[1]])\n",
    "    \n",
    "    #Shift minimum flux to t=0\n",
    "    flux1 = np.roll(np.array(flux1), tsteps-np.argmin(flux1))\n",
    "    flux2 = np.roll(np.array(flux2), tsteps-np.argmin(flux2)-1)\n",
    "    \n",
    "    matches, cost, mapping_1, mapping_2, matrix = dtw(flux1, flux2)\n",
    "    \n",
    "    d = cost\n",
    "    dtw_dist.append(d)\n",
    "    \n",
    "    plt.figure(figsize=[16,8])\n",
    "    plt.plot(tarr, flux1, label=f'Type: {types[pair[0]]}')\n",
    "    plt.plot(tarr, flux2, label=f'Type: {types[pair[1]]}')\n",
    "    \n",
    "    for m in matches:\n",
    "        plt.plot((tarr[m[0]], tarr[m[1]]), (flux1[m[0]], flux2[m[1]]), color='k')\n",
    "    plt.title(f'DTW Distance: {str(np.round(d,3))}', fontsize=18)\n",
    "    plt.legend(loc='lower right', fontsize=16)\n",
    "    plt.ticklabel_format(useOffset=False)\n",
    "    plt.show()"
   ]
  },
  {
   "cell_type": "code",
   "execution_count": null,
   "metadata": {},
   "outputs": [],
   "source": [
    "np.vstack([edist, dtw_dist]).T"
   ]
  },
  {
   "cell_type": "markdown",
   "metadata": {},
   "source": [
    "### DTW-D "
   ]
  },
  {
   "cell_type": "code",
   "execution_count": null,
   "metadata": {},
   "outputs": [],
   "source": []
  },
  {
   "cell_type": "code",
   "execution_count": null,
   "metadata": {},
   "outputs": [],
   "source": [
    "dtwd_dist = []\n",
    "for pair in combos:\n",
    "    flux1 = np.array(farr[pair[0]])\n",
    "    flux2 = np.array(farr[pair[1]])\n",
    "    \n",
    "    #Shift minimum flux to t=0\n",
    "    flux1 = np.roll(np.array(flux1), tsteps-np.argmin(flux1))\n",
    "    flux2 = np.roll(np.array(flux2), tsteps-np.argmin(flux2)-1)\n",
    "    \n",
    "    matches, cost, mapping_1, mapping_2, matrix = dtw_d(flux1, flux2)\n",
    "    \n",
    "    d = cost\n",
    "    dtw_dist.append(d)\n",
    "    \n",
    "    plt.figure(figsize=[16,8])\n",
    "    plt.plot(tarr, flux1, label=f'Type: {types[pair[0]]}')\n",
    "    plt.plot(tarr, flux2, label=f'Type: {types[pair[1]]}')\n",
    "    \n",
    "    for m in matches:\n",
    "        plt.plot((tarr[m[0]], tarr[m[1]]), (flux1[m[0]], flux2[m[1]]), color='k')\n",
    "    plt.title(f'DTW-D Distance: {str(np.round(d,3))}', fontsize=18)\n",
    "    plt.legend(loc='lower right', fontsize=16)\n",
    "    plt.ticklabel_format(useOffset=False)\n",
    "    plt.show()"
   ]
  },
  {
   "cell_type": "code",
   "execution_count": null,
   "metadata": {},
   "outputs": [],
   "source": []
  }
 ],
 "metadata": {
  "kernelspec": {
   "display_name": "Python 3",
   "language": "python",
   "name": "python3"
  },
  "language_info": {
   "codemirror_mode": {
    "name": "ipython",
    "version": 3
   },
   "file_extension": ".py",
   "mimetype": "text/x-python",
   "name": "python",
   "nbconvert_exporter": "python",
   "pygments_lexer": "ipython3",
   "version": "3.6.9"
  }
 },
 "nbformat": 4,
 "nbformat_minor": 2
}
